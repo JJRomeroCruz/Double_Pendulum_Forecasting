import Pendulum
import numpy as np
import matplotlib.pyplot as plt
#from maths_utils import evaluate, tes_stationarity, RMSE
#from methods import ANN, var_multi





import numpy as np
import matplotlib.pyplot as plt
import pandas as pd
from sklearn.preprocessing import MinMaxScaler
from tensorflow.keras.models import Sequential
from tensorflow.keras.layers import LSTM, Dense


# creamos la serie temporal simulada
np.random.seed(42)
n = 1000
t = np.arange(n)
consumo = np.sin(0.02*t) + 0.5* np.random.randn(n)

# Convertir a un DataFrame para facilitar la manipulacion
df = pd.DataFrame(consumo, columns = ['Consumo'])


# Preprocesamos los datos
# Escalamos los datos 
scaler = MinMaxScaler(feature_range = (0, 1))
df_scaled = scaler.fit_transform(df)

# Creamos las secuencias para la red LSTM
def create_sequences(data, n_steps):
    x, y = [], []
    for i in range(len(data) - n_steps):
        x.append(data[i: i +n_steps])
        y.append(data[i + n_steps])
    return np.array(x), np.array(y)

n_steps = 10 # Numero de pasos de la secuencia
x, y = create_sequences(df_scaled, n_steps)


df_scaled.shape


# Definimos el modelo LSTM
model = Sequential()
model.add(Dense(1))
model.compile(optimizer = 'adam', loss = 'mse')

# Reshape de los datos para la LSTM [samples, time steps, features]
x = x.reshape((x.shape[0], x.shape[1], 1))

# Entrenar el modelo
model.fit(x, y, epochs = 200, verbose = 0)


x[:5, 2], x.shape


# Hacemos las predicciones
# Usar los últimos n_steps puntos para predecir el siguiente valor
x_input = df_scaled[-n_steps:].reshape((1, n_steps, 1))
predicted = model.predict(x_input, verbose=0)

# Invertir la escala para obtener el valor original
predicted = predicted.reshape((1, n_steps))
predicted_value = scaler.inverse_transform(predicted)
print(f'Predicción del siguiente valor de consumo: {predicted_value[0][0]:.4f}')





predicted[0, :, :]


# Visualizar los resultados 
# Crear predicciones sobre todo el conjunto de datos
train_predict = model.predict(x, verbose = 0)
train_predict = train_predict.reshape((train_predict.shape[0], n_steps))
train_predict = scaler.inverse_transform(train_predict)
actual_data = scaler.inverse_transform(y.reshape(-1, 1))

# Graficar los resultados
plt.plot(actual_data, label = 'Datos reales')
plt.plot(train_predict[:, 5], label = 'Predicciones')
#plt.plot(train_predict.reshape((train_predict.shape[0]*train_predict.shape[1])), label = 'Predicciones')
plt.legend()
plt.show()


actual_data.shape, train_predict.shape





import pandas as pd
from prophet import Prophet

# Creamos un DataFrame con los datos de la serie temporal
# Supongamos que tenemos datos de ventas diarias

data = {

    'ds': pd.date_range(start = '2023-01-01', periods = 100, freq = 'D'), 
    'y': [20 + i + (i%5)*5 + 40*np.random.rand() for i in range(100)]
}

df = pd.DataFrame(data)

# Creamos un modelo Prophet
model = Prophet()

# Ajustamos el modelo a los datos
model.fit(df)

# Creamos un DataFrame para las futuras predicciones (por ejemplo, predecir 30 días en el futuro)
future = model.make_future_dataframe(periods = 30)

# Realizamos las predicciones
forecast = model.predict(future)

# Mostramos las predicciones
print(forecast[['ds', 'yhat', 'yhat_lower', 'yhat_upper']].tail())

# Opcional: Graficamos las predicciones
import matplotlib.pyplot as plt

model.plot(forecast)
plt.show()




# También puedes graficar los componentes de la predicción (tendencia, estacionalidad)
model.plot_components(forecast)
plt.show()



