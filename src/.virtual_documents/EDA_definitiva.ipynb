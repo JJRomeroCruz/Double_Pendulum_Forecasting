import numpy as np
import pandas as pd
import matplotlib.pyplot as plt
import dataset.pendulum as pendulum
import utils.methods as methods
import utils.math_utils as math_utils





# Random initial conditions
state = [np.random.rand()*np.pi, np.random.rand()*np.pi, np.random.rand()*np.pi, np.random.rand()*np.pi]
t_stop = 40.0

# Data
p = pendulum.Pendulum(t_stop)
data = p.solver(state)
t = np.linspace(0, t_stop, int(t_stop/0.02))

# Animation
#p.ani(state)





# Split the dataframe
y_train, y_test, t_train, t_test = methods.split_set(data, t, 0.3)








from sklearn.preprocessing import MinMaxScaler
from tensorflow.keras.models import Sequential
from tensorflow.keras.layers import LSTM, Dense, SimpleRNN, Dropout

# Scale the data
scaler = MinMaxScaler(feature_range = (0, 1))
df_scaled = scaler.fit_transform(data)

# Creamos las secuencias para la red LSTM
def create_sequences(data, n_steps):
    x, y = [], []
    for i in range(len(data) - n_steps):
        x.append(data[i: i +n_steps])
        y.append(data[i + n_steps])
    return np.array(x), np.array(y)

n_steps = int(0.5*len(data)) # Numero de pasos de la secuencia
x, y = create_sequences(df_scaled, n_steps)


y.shape, x.shape


## Define the LSTM model
model = Sequential()
model.add(SimpleRNN(units = 100, input_shape=(n_steps, 4)))
model.add(Dropout(0.2))
#model.add(SimpleRNN(units = 200, input_shape=(500, 500, 4)))
model.add(Dense(10, activation = 'relu'))
"""
model.add(LSTM(units=100, input_shape=(x.shape[1], x.shape[2]), return_sequences=True))
model.add(Dropout(0.2))  # Regularización para prevenir sobreajuste
model.add(LSTM(units=50))
model.add(Dense(10, activation='relu'))  # Capa intermedia
"""
model.add(Dense(4))

model.compile(optimizer = 'adam', loss = 'mse')

# Reshape de los datos para la LSTM [samples, time steps, features]
x = x.reshape((x.shape[0], x.shape[1], 4))
y = y.reshape((y.shape[0], 1, y.shape[1]))
# Entrenar el modelo
model.fit(x, y, epochs = 80, batch_size = 32, verbose = 0)


y_train.shape


# Hacemos las predicciones
# Usar los últimos n_steps puntos para predecir el siguiente valor
x_input = df_scaled[-n_steps:].reshape((1, n_steps, 4))
#x_input = scaler.fit_transform(y_train)
predicted = model.predict(x_input, verbose=0)

# Invertir la escala para obtener el valor original
predicted = predicted.reshape((n_steps, 4))
predicted_value = scaler.inverse_transform(predicted)
print(f'Predicción del péndulo: {predicted_value[0][0]:.4f}')


df_scaled.shape


# prediction
df_scaled.shape
y_train_sc = scaler.fit_transform(y_train)
for i in range(len(y_test)):
    x_input = y_train_sc[i:i + n_steps].reshape((1, n_steps, 4))
    predicted = model.predict(x_input, verbose = 0)
    y_train_sc = np.concatenate((y_train_sc, predicted), axis = 0)


# Representation
data_new = scaler.inverse_transform(y_train_sc)
plt.plot(t, data_new[:, 0], label = 'Predict')
plt.plot(t, data.values[:, 0], label = r'Actual data')
plt.title(r'$\theta$')
plt.legend()
plt.show()


predicted_value.shape, y_train.shape


# Concatenate the data
data_new = np.concatenate((y_train, predicted_value), axis = 0)

# Graficar los resultados
plt.plot(t, data_new[:, 0], label = r'Predicted')
plt.plot(t, data.values[:, 0], label = r'Actual data')
#plt.plot(train_predict[:, 5], label = 'Predicciones')
plt.title(r'$\theta$')
#plt.plot(train_predict.reshape((train_predict.shape[0]*train_predict.shape[1])), label = 'Predicciones')
plt.legend()
plt.show()





import pandas as pd
from prophet import Prophet

# Creamos un DataFrame con los datos de la serie temporal
# Supongamos que tenemos datos de ventas diarias

data = {

    'ds': pd.date_range(start = '2023-01-01', periods = 100, freq = 'D'), 
    'y': [20 + i + (i%5)*5 + 40*np.random.rand() for i in range(100)]
}

df = pd.DataFrame(data)

# Creamos un modelo Prophet
model = Prophet()

# Ajustamos el modelo a los datos
model.fit(df)

# Creamos un DataFrame para las futuras predicciones (por ejemplo, predecir 30 días en el futuro)
future = model.make_future_dataframe(periods = 30)

# Realizamos las predicciones
forecast = model.predict(future)

# Mostramos las predicciones
print(forecast[['ds', 'yhat', 'yhat_lower', 'yhat_upper']].tail())

# Opcional: Graficamos las predicciones
import matplotlib.pyplot as plt

model.plot(forecast)
plt.show()











